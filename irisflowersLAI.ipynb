{
  "nbformat": 4,
  "nbformat_minor": 0,
  "metadata": {
    "colab": {
      "name": "irisflowersLAI.ipynb",
      "provenance": [],
      "collapsed_sections": [],
      "authorship_tag": "ABX9TyO5LiM44KK1Pb19JxuczeZ/",
      "include_colab_link": true
    },
    "kernelspec": {
      "name": "python3",
      "display_name": "Python 3"
    },
    "language_info": {
      "name": "python"
    }
  },
  "cells": [
    {
      "cell_type": "markdown",
      "metadata": {
        "id": "view-in-github",
        "colab_type": "text"
      },
      "source": [
        "<a href=\"https://colab.research.google.com/github/chatmethar-comp/irisFlower/blob/main/irisflowersLAI.ipynb\" target=\"_parent\"><img src=\"https://colab.research.google.com/assets/colab-badge.svg\" alt=\"Open In Colab\"/></a>"
      ]
    },
    {
      "cell_type": "code",
      "metadata": {
        "id": "uOV_q5OfxED2"
      },
      "source": [
        "from sklearn.datasets import load_iris\n",
        "import pandas as pd\n",
        "import numpy as np\n",
        "import matplotlib.pyplot as plt\n",
        "iris_dataset = load_iris()"
      ],
      "execution_count": null,
      "outputs": []
    },
    {
      "cell_type": "code",
      "metadata": {
        "colab": {
          "base_uri": "https://localhost:8080/"
        },
        "id": "0z58XQkkzEN2",
        "outputId": "199ebd2f-25d4-4646-87ac-1731ef216365"
      },
      "source": [
        "print(iris_dataset)"
      ],
      "execution_count": null,
      "outputs": [
        {
          "output_type": "stream",
          "name": "stdout",
          "text": [
            "{'data': array([[5.1, 3.5, 1.4, 0.2],\n",
            "       [4.9, 3. , 1.4, 0.2],\n",
            "       [4.7, 3.2, 1.3, 0.2],\n",
            "       [4.6, 3.1, 1.5, 0.2],\n",
            "       [5. , 3.6, 1.4, 0.2],\n",
            "       [5.4, 3.9, 1.7, 0.4],\n",
            "       [4.6, 3.4, 1.4, 0.3],\n",
            "       [5. , 3.4, 1.5, 0.2],\n",
            "       [4.4, 2.9, 1.4, 0.2],\n",
            "       [4.9, 3.1, 1.5, 0.1],\n",
            "       [5.4, 3.7, 1.5, 0.2],\n",
            "       [4.8, 3.4, 1.6, 0.2],\n",
            "       [4.8, 3. , 1.4, 0.1],\n",
            "       [4.3, 3. , 1.1, 0.1],\n",
            "       [5.8, 4. , 1.2, 0.2],\n",
            "       [5.7, 4.4, 1.5, 0.4],\n",
            "       [5.4, 3.9, 1.3, 0.4],\n",
            "       [5.1, 3.5, 1.4, 0.3],\n",
            "       [5.7, 3.8, 1.7, 0.3],\n",
            "       [5.1, 3.8, 1.5, 0.3],\n",
            "       [5.4, 3.4, 1.7, 0.2],\n",
            "       [5.1, 3.7, 1.5, 0.4],\n",
            "       [4.6, 3.6, 1. , 0.2],\n",
            "       [5.1, 3.3, 1.7, 0.5],\n",
            "       [4.8, 3.4, 1.9, 0.2],\n",
            "       [5. , 3. , 1.6, 0.2],\n",
            "       [5. , 3.4, 1.6, 0.4],\n",
            "       [5.2, 3.5, 1.5, 0.2],\n",
            "       [5.2, 3.4, 1.4, 0.2],\n",
            "       [4.7, 3.2, 1.6, 0.2],\n",
            "       [4.8, 3.1, 1.6, 0.2],\n",
            "       [5.4, 3.4, 1.5, 0.4],\n",
            "       [5.2, 4.1, 1.5, 0.1],\n",
            "       [5.5, 4.2, 1.4, 0.2],\n",
            "       [4.9, 3.1, 1.5, 0.2],\n",
            "       [5. , 3.2, 1.2, 0.2],\n",
            "       [5.5, 3.5, 1.3, 0.2],\n",
            "       [4.9, 3.6, 1.4, 0.1],\n",
            "       [4.4, 3. , 1.3, 0.2],\n",
            "       [5.1, 3.4, 1.5, 0.2],\n",
            "       [5. , 3.5, 1.3, 0.3],\n",
            "       [4.5, 2.3, 1.3, 0.3],\n",
            "       [4.4, 3.2, 1.3, 0.2],\n",
            "       [5. , 3.5, 1.6, 0.6],\n",
            "       [5.1, 3.8, 1.9, 0.4],\n",
            "       [4.8, 3. , 1.4, 0.3],\n",
            "       [5.1, 3.8, 1.6, 0.2],\n",
            "       [4.6, 3.2, 1.4, 0.2],\n",
            "       [5.3, 3.7, 1.5, 0.2],\n",
            "       [5. , 3.3, 1.4, 0.2],\n",
            "       [7. , 3.2, 4.7, 1.4],\n",
            "       [6.4, 3.2, 4.5, 1.5],\n",
            "       [6.9, 3.1, 4.9, 1.5],\n",
            "       [5.5, 2.3, 4. , 1.3],\n",
            "       [6.5, 2.8, 4.6, 1.5],\n",
            "       [5.7, 2.8, 4.5, 1.3],\n",
            "       [6.3, 3.3, 4.7, 1.6],\n",
            "       [4.9, 2.4, 3.3, 1. ],\n",
            "       [6.6, 2.9, 4.6, 1.3],\n",
            "       [5.2, 2.7, 3.9, 1.4],\n",
            "       [5. , 2. , 3.5, 1. ],\n",
            "       [5.9, 3. , 4.2, 1.5],\n",
            "       [6. , 2.2, 4. , 1. ],\n",
            "       [6.1, 2.9, 4.7, 1.4],\n",
            "       [5.6, 2.9, 3.6, 1.3],\n",
            "       [6.7, 3.1, 4.4, 1.4],\n",
            "       [5.6, 3. , 4.5, 1.5],\n",
            "       [5.8, 2.7, 4.1, 1. ],\n",
            "       [6.2, 2.2, 4.5, 1.5],\n",
            "       [5.6, 2.5, 3.9, 1.1],\n",
            "       [5.9, 3.2, 4.8, 1.8],\n",
            "       [6.1, 2.8, 4. , 1.3],\n",
            "       [6.3, 2.5, 4.9, 1.5],\n",
            "       [6.1, 2.8, 4.7, 1.2],\n",
            "       [6.4, 2.9, 4.3, 1.3],\n",
            "       [6.6, 3. , 4.4, 1.4],\n",
            "       [6.8, 2.8, 4.8, 1.4],\n",
            "       [6.7, 3. , 5. , 1.7],\n",
            "       [6. , 2.9, 4.5, 1.5],\n",
            "       [5.7, 2.6, 3.5, 1. ],\n",
            "       [5.5, 2.4, 3.8, 1.1],\n",
            "       [5.5, 2.4, 3.7, 1. ],\n",
            "       [5.8, 2.7, 3.9, 1.2],\n",
            "       [6. , 2.7, 5.1, 1.6],\n",
            "       [5.4, 3. , 4.5, 1.5],\n",
            "       [6. , 3.4, 4.5, 1.6],\n",
            "       [6.7, 3.1, 4.7, 1.5],\n",
            "       [6.3, 2.3, 4.4, 1.3],\n",
            "       [5.6, 3. , 4.1, 1.3],\n",
            "       [5.5, 2.5, 4. , 1.3],\n",
            "       [5.5, 2.6, 4.4, 1.2],\n",
            "       [6.1, 3. , 4.6, 1.4],\n",
            "       [5.8, 2.6, 4. , 1.2],\n",
            "       [5. , 2.3, 3.3, 1. ],\n",
            "       [5.6, 2.7, 4.2, 1.3],\n",
            "       [5.7, 3. , 4.2, 1.2],\n",
            "       [5.7, 2.9, 4.2, 1.3],\n",
            "       [6.2, 2.9, 4.3, 1.3],\n",
            "       [5.1, 2.5, 3. , 1.1],\n",
            "       [5.7, 2.8, 4.1, 1.3],\n",
            "       [6.3, 3.3, 6. , 2.5],\n",
            "       [5.8, 2.7, 5.1, 1.9],\n",
            "       [7.1, 3. , 5.9, 2.1],\n",
            "       [6.3, 2.9, 5.6, 1.8],\n",
            "       [6.5, 3. , 5.8, 2.2],\n",
            "       [7.6, 3. , 6.6, 2.1],\n",
            "       [4.9, 2.5, 4.5, 1.7],\n",
            "       [7.3, 2.9, 6.3, 1.8],\n",
            "       [6.7, 2.5, 5.8, 1.8],\n",
            "       [7.2, 3.6, 6.1, 2.5],\n",
            "       [6.5, 3.2, 5.1, 2. ],\n",
            "       [6.4, 2.7, 5.3, 1.9],\n",
            "       [6.8, 3. , 5.5, 2.1],\n",
            "       [5.7, 2.5, 5. , 2. ],\n",
            "       [5.8, 2.8, 5.1, 2.4],\n",
            "       [6.4, 3.2, 5.3, 2.3],\n",
            "       [6.5, 3. , 5.5, 1.8],\n",
            "       [7.7, 3.8, 6.7, 2.2],\n",
            "       [7.7, 2.6, 6.9, 2.3],\n",
            "       [6. , 2.2, 5. , 1.5],\n",
            "       [6.9, 3.2, 5.7, 2.3],\n",
            "       [5.6, 2.8, 4.9, 2. ],\n",
            "       [7.7, 2.8, 6.7, 2. ],\n",
            "       [6.3, 2.7, 4.9, 1.8],\n",
            "       [6.7, 3.3, 5.7, 2.1],\n",
            "       [7.2, 3.2, 6. , 1.8],\n",
            "       [6.2, 2.8, 4.8, 1.8],\n",
            "       [6.1, 3. , 4.9, 1.8],\n",
            "       [6.4, 2.8, 5.6, 2.1],\n",
            "       [7.2, 3. , 5.8, 1.6],\n",
            "       [7.4, 2.8, 6.1, 1.9],\n",
            "       [7.9, 3.8, 6.4, 2. ],\n",
            "       [6.4, 2.8, 5.6, 2.2],\n",
            "       [6.3, 2.8, 5.1, 1.5],\n",
            "       [6.1, 2.6, 5.6, 1.4],\n",
            "       [7.7, 3. , 6.1, 2.3],\n",
            "       [6.3, 3.4, 5.6, 2.4],\n",
            "       [6.4, 3.1, 5.5, 1.8],\n",
            "       [6. , 3. , 4.8, 1.8],\n",
            "       [6.9, 3.1, 5.4, 2.1],\n",
            "       [6.7, 3.1, 5.6, 2.4],\n",
            "       [6.9, 3.1, 5.1, 2.3],\n",
            "       [5.8, 2.7, 5.1, 1.9],\n",
            "       [6.8, 3.2, 5.9, 2.3],\n",
            "       [6.7, 3.3, 5.7, 2.5],\n",
            "       [6.7, 3. , 5.2, 2.3],\n",
            "       [6.3, 2.5, 5. , 1.9],\n",
            "       [6.5, 3. , 5.2, 2. ],\n",
            "       [6.2, 3.4, 5.4, 2.3],\n",
            "       [5.9, 3. , 5.1, 1.8]]), 'target': array([0, 0, 0, 0, 0, 0, 0, 0, 0, 0, 0, 0, 0, 0, 0, 0, 0, 0, 0, 0, 0, 0,\n",
            "       0, 0, 0, 0, 0, 0, 0, 0, 0, 0, 0, 0, 0, 0, 0, 0, 0, 0, 0, 0, 0, 0,\n",
            "       0, 0, 0, 0, 0, 0, 1, 1, 1, 1, 1, 1, 1, 1, 1, 1, 1, 1, 1, 1, 1, 1,\n",
            "       1, 1, 1, 1, 1, 1, 1, 1, 1, 1, 1, 1, 1, 1, 1, 1, 1, 1, 1, 1, 1, 1,\n",
            "       1, 1, 1, 1, 1, 1, 1, 1, 1, 1, 1, 1, 2, 2, 2, 2, 2, 2, 2, 2, 2, 2,\n",
            "       2, 2, 2, 2, 2, 2, 2, 2, 2, 2, 2, 2, 2, 2, 2, 2, 2, 2, 2, 2, 2, 2,\n",
            "       2, 2, 2, 2, 2, 2, 2, 2, 2, 2, 2, 2, 2, 2, 2, 2, 2, 2]), 'target_names': array(['setosa', 'versicolor', 'virginica'], dtype='<U10'), 'DESCR': '.. _iris_dataset:\\n\\nIris plants dataset\\n--------------------\\n\\n**Data Set Characteristics:**\\n\\n    :Number of Instances: 150 (50 in each of three classes)\\n    :Number of Attributes: 4 numeric, predictive attributes and the class\\n    :Attribute Information:\\n        - sepal length in cm\\n        - sepal width in cm\\n        - petal length in cm\\n        - petal width in cm\\n        - class:\\n                - Iris-Setosa\\n                - Iris-Versicolour\\n                - Iris-Virginica\\n                \\n    :Summary Statistics:\\n\\n    ============== ==== ==== ======= ===== ====================\\n                    Min  Max   Mean    SD   Class Correlation\\n    ============== ==== ==== ======= ===== ====================\\n    sepal length:   4.3  7.9   5.84   0.83    0.7826\\n    sepal width:    2.0  4.4   3.05   0.43   -0.4194\\n    petal length:   1.0  6.9   3.76   1.76    0.9490  (high!)\\n    petal width:    0.1  2.5   1.20   0.76    0.9565  (high!)\\n    ============== ==== ==== ======= ===== ====================\\n\\n    :Missing Attribute Values: None\\n    :Class Distribution: 33.3% for each of 3 classes.\\n    :Creator: R.A. Fisher\\n    :Donor: Michael Marshall (MARSHALL%PLU@io.arc.nasa.gov)\\n    :Date: July, 1988\\n\\nThe famous Iris database, first used by Sir R.A. Fisher. The dataset is taken\\nfrom Fisher\\'s paper. Note that it\\'s the same as in R, but not as in the UCI\\nMachine Learning Repository, which has two wrong data points.\\n\\nThis is perhaps the best known database to be found in the\\npattern recognition literature.  Fisher\\'s paper is a classic in the field and\\nis referenced frequently to this day.  (See Duda & Hart, for example.)  The\\ndata set contains 3 classes of 50 instances each, where each class refers to a\\ntype of iris plant.  One class is linearly separable from the other 2; the\\nlatter are NOT linearly separable from each other.\\n\\n.. topic:: References\\n\\n   - Fisher, R.A. \"The use of multiple measurements in taxonomic problems\"\\n     Annual Eugenics, 7, Part II, 179-188 (1936); also in \"Contributions to\\n     Mathematical Statistics\" (John Wiley, NY, 1950).\\n   - Duda, R.O., & Hart, P.E. (1973) Pattern Classification and Scene Analysis.\\n     (Q327.D83) John Wiley & Sons.  ISBN 0-471-22361-1.  See page 218.\\n   - Dasarathy, B.V. (1980) \"Nosing Around the Neighborhood: A New System\\n     Structure and Classification Rule for Recognition in Partially Exposed\\n     Environments\".  IEEE Transactions on Pattern Analysis and Machine\\n     Intelligence, Vol. PAMI-2, No. 1, 67-71.\\n   - Gates, G.W. (1972) \"The Reduced Nearest Neighbor Rule\".  IEEE Transactions\\n     on Information Theory, May 1972, 431-433.\\n   - See also: 1988 MLC Proceedings, 54-64.  Cheeseman et al\"s AUTOCLASS II\\n     conceptual clustering system finds 3 classes in the data.\\n   - Many, many more ...', 'feature_names': ['sepal length (cm)', 'sepal width (cm)', 'petal length (cm)', 'petal width (cm)'], 'filename': '/usr/local/lib/python3.7/dist-packages/sklearn/datasets/data/iris.csv'}\n"
          ]
        }
      ]
    },
    {
      "cell_type": "code",
      "metadata": {
        "colab": {
          "base_uri": "https://localhost:8080/"
        },
        "id": "zSkajAvtzkvK",
        "outputId": "b3c36314-0164-4d99-cd09-401d078d4354"
      },
      "source": [
        "X = pd.DataFrame(iris_dataset.data,columns=iris_dataset.feature_names)\n",
        "Y = pd.DataFrame(iris_dataset.target)\n",
        "print(X)\n",
        "print(Y)"
      ],
      "execution_count": null,
      "outputs": [
        {
          "output_type": "stream",
          "name": "stdout",
          "text": [
            "     sepal length (cm)  sepal width (cm)  petal length (cm)  petal width (cm)\n",
            "0                  5.1               3.5                1.4               0.2\n",
            "1                  4.9               3.0                1.4               0.2\n",
            "2                  4.7               3.2                1.3               0.2\n",
            "3                  4.6               3.1                1.5               0.2\n",
            "4                  5.0               3.6                1.4               0.2\n",
            "..                 ...               ...                ...               ...\n",
            "145                6.7               3.0                5.2               2.3\n",
            "146                6.3               2.5                5.0               1.9\n",
            "147                6.5               3.0                5.2               2.0\n",
            "148                6.2               3.4                5.4               2.3\n",
            "149                5.9               3.0                5.1               1.8\n",
            "\n",
            "[150 rows x 4 columns]\n",
            "     0\n",
            "0    0\n",
            "1    0\n",
            "2    0\n",
            "3    0\n",
            "4    0\n",
            "..  ..\n",
            "145  2\n",
            "146  2\n",
            "147  2\n",
            "148  2\n",
            "149  2\n",
            "\n",
            "[150 rows x 1 columns]\n"
          ]
        }
      ]
    },
    {
      "cell_type": "code",
      "metadata": {
        "colab": {
          "base_uri": "https://localhost:8080/"
        },
        "id": "YbDVukps07jl",
        "outputId": "202defdd-1337-41f2-840c-4bcce5f2e46c"
      },
      "source": [
        "from sklearn.model_selection import train_test_split\n",
        "X_train, X_test, y_train, y_test = train_test_split(X, Y, test_size=0.3)\n",
        "print(X_train,y_train)"
      ],
      "execution_count": null,
      "outputs": [
        {
          "output_type": "stream",
          "name": "stdout",
          "text": [
            "     sepal length (cm)  sepal width (cm)  petal length (cm)  petal width (cm)\n",
            "12                 4.8               3.0                1.4               0.1\n",
            "29                 4.7               3.2                1.6               0.2\n",
            "132                6.4               2.8                5.6               2.2\n",
            "144                6.7               3.3                5.7               2.5\n",
            "64                 5.6               2.9                3.6               1.3\n",
            "..                 ...               ...                ...               ...\n",
            "90                 5.5               2.6                4.4               1.2\n",
            "53                 5.5               2.3                4.0               1.3\n",
            "124                6.7               3.3                5.7               2.1\n",
            "116                6.5               3.0                5.5               1.8\n",
            "34                 4.9               3.1                1.5               0.2\n",
            "\n",
            "[105 rows x 4 columns]      0\n",
            "12   0\n",
            "29   0\n",
            "132  2\n",
            "144  2\n",
            "64   1\n",
            "..  ..\n",
            "90   1\n",
            "53   1\n",
            "124  2\n",
            "116  2\n",
            "34   0\n",
            "\n",
            "[105 rows x 1 columns]\n"
          ]
        }
      ]
    },
    {
      "cell_type": "code",
      "metadata": {
        "colab": {
          "base_uri": "https://localhost:8080/"
        },
        "id": "BpjHEE5t2t0m",
        "outputId": "daaa8017-b5ee-4f87-86f9-05e4478c7390"
      },
      "source": [
        "from sklearn.preprocessing import StandardScaler\n",
        "sc = StandardScaler()\n",
        "sc.fit(X_train)\n",
        "X_train_std = sc.transform(X_train)\n",
        "X_test_std = sc.transform(X_test)\n",
        "\n",
        "y_train = np.ravel(y_train)\n",
        "y_test = np.ravel(y_test)\n",
        "print(X_train_std)\n",
        "print(y_test)\n",
        "# print(X_train.mean())\n",
        "# print(X_train.mean(axis=0))\n",
        "# print(X_train.var())\n"
      ],
      "execution_count": null,
      "outputs": [
        {
          "output_type": "stream",
          "name": "stdout",
          "text": [
            "[[-1.30713347e+00 -9.67549536e-02 -1.37905556e+00 -1.46904015e+00]\n",
            " [-1.43685844e+00  3.65030052e-01 -1.26085079e+00 -1.33537532e+00]\n",
            " [ 7.68465991e-01 -5.58539960e-01  1.10324445e+00  1.33792132e+00]\n",
            " [ 1.15764089e+00  5.95922555e-01  1.16234683e+00  1.73891581e+00]\n",
            " [-2.69333740e-01 -3.27647457e-01 -7.88031747e-02  1.34937830e-01]\n",
            " [-9.17958571e-01  1.75038507e+00 -1.08354365e+00 -1.06804566e+00]\n",
            " [ 1.02791592e+00 -3.27647457e-01  5.12220635e-01  1.34937830e-01]\n",
            " [-1.04768354e+00  1.05770756e+00 -1.43815794e+00 -1.20171049e+00]\n",
            " [-7.88233605e-01  1.05770756e+00 -1.31995318e+00 -1.33537532e+00]\n",
            " [ 7.68465991e-01 -7.89432463e-01  9.25937303e-01  9.36926821e-01]\n",
            " [-9.88380696e-03 -7.89432463e-01  8.07732541e-01  9.36926821e-01]\n",
            " [ 6.38741025e-01  5.95922555e-01  5.71323016e-01  5.35932325e-01]\n",
            " [-9.17958571e-01  1.05770756e+00 -1.37905556e+00 -1.33537532e+00]\n",
            " [-9.17958571e-01  1.75038507e+00 -1.31995318e+00 -1.20171049e+00]\n",
            " [ 1.80626572e+00 -9.67549536e-02  1.22144921e+00  5.35932325e-01]\n",
            " [ 1.15764089e+00  1.34137549e-01  1.10324445e+00  1.60525098e+00]\n",
            " [ 6.38741025e-01 -3.27647457e-01  1.10324445e+00  8.03261989e-01]\n",
            " [-1.39608773e-01 -1.02032497e+00 -1.37905556e-01 -2.66056665e-01]\n",
            " [-5.28783672e-01  1.98127757e+00 -1.20174841e+00 -1.06804566e+00]\n",
            " [ 8.98190957e-01 -5.58539960e-01  5.12220635e-01  4.02267494e-01]\n",
            " [ 2.49566126e-01 -3.27647457e-01  4.53118254e-01  4.02267494e-01]\n",
            " [-3.99058706e-01  1.05770756e+00 -1.43815794e+00 -1.33537532e+00]\n",
            " [ 1.19841159e-01 -9.67549536e-02  2.75811111e-01  4.02267494e-01]\n",
            " [ 2.49566126e-01 -9.67549536e-02  6.30425397e-01  8.03261989e-01]\n",
            " [-1.39608773e-01 -1.25121747e+00  7.48630159e-01  1.07059165e+00]\n",
            " [-9.88380696e-03  2.21217008e+00 -1.49726032e+00 -1.33537532e+00]\n",
            " [-7.88233605e-01  2.44306258e+00 -1.31995318e+00 -1.46904015e+00]\n",
            " [-7.88233605e-01 -7.89432463e-01  9.85039684e-02  2.68602662e-01]\n",
            " [-9.88380696e-03 -7.89432463e-01  8.07732541e-01  9.36926821e-01]\n",
            " [-2.69333740e-01 -5.58539960e-01  6.89527778e-01  1.07059165e+00]\n",
            " [-9.88380696e-03 -7.89432463e-01  2.16708730e-01 -2.66056665e-01]\n",
            " [-1.04768354e+00  8.26815058e-01 -1.31995318e+00 -1.33537532e+00]\n",
            " [ 1.41709082e+00  1.34137549e-01  8.07732541e-01  1.47158615e+00]\n",
            " [-9.88380696e-03 -5.58539960e-01  8.07732541e-01  1.60525098e+00]\n",
            " [ 1.28736586e+00 -5.58539960e-01  6.30425397e-01  2.68602662e-01]\n",
            " [-1.39608773e-01 -5.58539960e-01  4.53118254e-01  1.34937830e-01]\n",
            " [-5.28783672e-01  1.51949257e+00 -1.31995318e+00 -1.33537532e+00]\n",
            " [ 5.09016058e-01 -1.94389498e+00  4.53118254e-01  4.02267494e-01]\n",
            " [ 1.41709082e+00  3.65030052e-01  1.16234683e+00  1.47158615e+00]\n",
            " [-1.30713347e+00  8.26815058e-01 -1.26085079e+00 -1.33537532e+00]\n",
            " [-1.17740850e+00 -1.48210997e+00 -2.56110318e-01 -2.66056665e-01]\n",
            " [ 7.68465991e-01  3.65030052e-01  9.25937303e-01  1.47158615e+00]\n",
            " [ 1.15764089e+00 -9.67549536e-02  7.48630159e-01  6.69597157e-01]\n",
            " [ 1.15764089e+00  1.34137549e-01  5.71323016e-01  4.02267494e-01]\n",
            " [-9.17958571e-01  8.26815058e-01 -1.31995318e+00 -1.33537532e+00]\n",
            " [ 1.54681579e+00  3.65030052e-01  5.71323016e-01  2.68602662e-01]\n",
            " [-2.69333740e-01 -9.67549536e-02  4.53118254e-01  4.02267494e-01]\n",
            " [-1.82603334e+00 -9.67549536e-02 -1.43815794e+00 -1.33537532e+00]\n",
            " [ 1.02791592e+00 -9.67549536e-02  3.94015873e-01  2.68602662e-01]\n",
            " [-1.39608773e-01  1.75038507e+00 -1.20174841e+00 -1.20171049e+00]\n",
            " [-1.17740850e+00 -1.25121747e+00  4.53118254e-01  6.69597157e-01]\n",
            " [-1.39608773e-01 -5.58539960e-01  2.16708730e-01  1.34937830e-01]\n",
            " [ 3.79291092e-01 -1.02032497e+00  1.10324445e+00  2.68602662e-01]\n",
            " [ 5.09016058e-01  8.26815058e-01  9.85039684e-01  1.47158615e+00]\n",
            " [-1.39608773e-01  3.13574009e+00 -1.31995318e+00 -1.06804566e+00]\n",
            " [-1.04768354e+00  5.95922555e-01 -1.37905556e+00 -1.33537532e+00]\n",
            " [-2.69333740e-01 -1.25121747e+00  9.85039684e-02 -1.32391833e-01]\n",
            " [ 2.45489055e+00 -5.58539960e-01  1.75337064e+00  1.07059165e+00]\n",
            " [ 2.49566126e-01  8.26815058e-01  4.53118254e-01  5.35932325e-01]\n",
            " [-9.88380696e-03 -1.02032497e+00  1.57606349e-01  1.27299840e-03]\n",
            " [ 7.68465991e-01  1.34137549e-01  1.04414206e+00  8.03261989e-01]\n",
            " [ 6.38741025e-01  8.26815058e-01  1.10324445e+00  1.60525098e+00]\n",
            " [-1.56658340e+00  3.65030052e-01 -1.37905556e+00 -1.33537532e+00]\n",
            " [ 1.15764089e+00 -9.67549536e-02  8.66834922e-01  1.47158615e+00]\n",
            " [-1.17740850e+00  1.34137549e-01 -1.31995318e+00 -1.46904015e+00]\n",
            " [ 5.09016058e-01 -5.58539960e-01  6.30425397e-01  8.03261989e-01]\n",
            " [-1.39608773e-01 -9.67549536e-02  2.75811111e-01  1.27299840e-03]\n",
            " [-1.39608773e-01 -3.27647457e-01  2.75811111e-01  1.34937830e-01]\n",
            " [-3.99058706e-01  2.67395508e+00 -1.37905556e+00 -1.33537532e+00]\n",
            " [ 3.79291092e-01 -3.27647457e-01  5.71323016e-01  2.68602662e-01]\n",
            " [ 6.38741025e-01 -7.89432463e-01  6.89527778e-01  8.03261989e-01]\n",
            " [ 1.19841159e-01 -9.67549536e-02  8.07732541e-01  8.03261989e-01]\n",
            " [ 1.93599069e+00 -3.27647457e-01  1.51696111e+00  8.03261989e-01]\n",
            " [-1.69630837e+00 -1.71300247e+00 -1.43815794e+00 -1.20171049e+00]\n",
            " [-1.30713347e+00  8.26815058e-01 -1.08354365e+00 -1.33537532e+00]\n",
            " [ 6.38741025e-01 -1.25121747e+00  7.48630159e-01  9.36926821e-01]\n",
            " [ 8.98190957e-01  3.65030052e-01  8.07732541e-01  1.07059165e+00]\n",
            " [ 7.68465991e-01  3.65030052e-01  4.53118254e-01  4.02267494e-01]\n",
            " [ 6.38741025e-01 -5.58539960e-01  8.07732541e-01  4.02267494e-01]\n",
            " [-1.30713347e+00 -9.67549536e-02 -1.37905556e+00 -1.20171049e+00]\n",
            " [-9.17958571e-01  1.75038507e+00 -1.26085079e+00 -1.33537532e+00]\n",
            " [-1.82603334e+00  3.65030052e-01 -1.43815794e+00 -1.33537532e+00]\n",
            " [-7.88233605e-01  8.26815058e-01 -1.37905556e+00 -1.33537532e+00]\n",
            " [ 2.45489055e+00 -1.02032497e+00  1.87157540e+00  1.47158615e+00]\n",
            " [-1.04768354e+00  3.65030052e-01 -1.49726032e+00 -1.33537532e+00]\n",
            " [-1.04768354e+00  1.05770756e+00 -1.26085079e+00 -8.00715992e-01]\n",
            " [-1.04768354e+00 -2.40567998e+00 -1.37905556e-01 -2.66056665e-01]\n",
            " [ 3.79291092e-01 -5.58539960e-01  5.71323016e-01  1.27299840e-03]\n",
            " [-9.88380696e-03 -7.89432463e-01  9.85039684e-02  1.27299840e-03]\n",
            " [-1.95575830e+00 -9.67549536e-02 -1.55636270e+00 -1.46904015e+00]\n",
            " [ 1.41709082e+00  1.34137549e-01  9.85039684e-01  1.20425648e+00]\n",
            " [-1.04768354e+00 -1.71300247e+00 -2.56110318e-01 -2.66056665e-01]\n",
            " [ 2.06571565e+00 -5.58539960e-01  1.39875635e+00  9.36926821e-01]\n",
            " [-1.04768354e+00 -9.67549536e-02 -1.26085079e+00 -1.33537532e+00]\n",
            " [ 1.41709082e+00  1.34137549e-01  6.89527778e-01  4.02267494e-01]\n",
            " [-3.99058706e-01 -1.25121747e+00  1.57606349e-01  1.34937830e-01]\n",
            " [-9.17958571e-01  5.95922555e-01 -1.20174841e+00 -9.34380824e-01]\n",
            " [ 8.98190957e-01 -9.67549536e-02  1.22144921e+00  1.33792132e+00]\n",
            " [ 3.79291092e-01 -5.58539960e-01  1.57606349e-01  1.34937830e-01]\n",
            " [-9.17958571e-01 -1.25121747e+00 -4.33417461e-01 -1.32391833e-01]\n",
            " [-3.99058706e-01 -1.02032497e+00  3.94015873e-01  1.27299840e-03]\n",
            " [-3.99058706e-01 -1.71300247e+00  1.57606349e-01  1.34937830e-01]\n",
            " [ 1.15764089e+00  5.95922555e-01  1.16234683e+00  1.20425648e+00]\n",
            " [ 8.98190957e-01 -9.67549536e-02  1.04414206e+00  8.03261989e-01]\n",
            " [-1.17740850e+00  1.34137549e-01 -1.31995318e+00 -1.33537532e+00]]\n",
            "[1 0 1 2 0 2 2 0 2 1 0 2 2 2 0 1 1 1 2 1 1 2 0 2 0 1 0 0 1 2 0 0 1 2 2 0 1\n",
            " 2 0 0 1 1 2 0 0]\n"
          ]
        }
      ]
    },
    {
      "cell_type": "code",
      "metadata": {
        "colab": {
          "base_uri": "https://localhost:8080/"
        },
        "id": "waZ85Qpr5_v1",
        "outputId": "c33e883e-bda1-42e9-bedd-baada6d0d95f"
      },
      "source": [
        "from sklearn.neighbors import KNeighborsClassifier\n",
        "knn = KNeighborsClassifier(n_neighbors=25)\n",
        "knn.fit(X_train_std,y_train)\n",
        "print(\"accuracy KNN (train) : {:.2f}\".format(knn.score(X_train_std, y_train)))\n",
        "print(\"accuracy KNN (test) : {:.2f}\".format(knn.score(X_test_std, y_test)))"
      ],
      "execution_count": null,
      "outputs": [
        {
          "output_type": "stream",
          "name": "stdout",
          "text": [
            "accuracy KNN (train) : 0.95\n",
            "accuracy KNN (test) : 0.96\n"
          ]
        }
      ]
    },
    {
      "cell_type": "code",
      "metadata": {
        "colab": {
          "base_uri": "https://localhost:8080/"
        },
        "id": "HE-ETaRS8aEB",
        "outputId": "7912fd08-adfd-4d99-a820-945e07eadcaf"
      },
      "source": [
        "from sklearn import tree\n",
        "decision_tree = tree.DecisionTreeClassifier();\n",
        "decision_tree.fit(X_train_std,y_train)\n",
        "print(\"accuracy dicision tree (train): {:.2f}\".format(decision_tree.score(X_train_std,y_train)))\n",
        "print(\"accuracy dicision tree (test): {:.2f}\".format(decision_tree.score(X_test_std,y_test)))"
      ],
      "execution_count": null,
      "outputs": [
        {
          "output_type": "stream",
          "name": "stdout",
          "text": [
            "accuracy dicision tree (train): 1.00\n",
            "accuracy dicision tree (test): 0.93\n"
          ]
        }
      ]
    },
    {
      "cell_type": "code",
      "metadata": {
        "colab": {
          "base_uri": "https://localhost:8080/",
          "height": 915
        },
        "id": "Boyi8XPqY0Qs",
        "outputId": "54f2c5c9-c83a-434f-df94-78aa6afaaa3b"
      },
      "source": [
        "import graphviz\n",
        "dot_data = tree.export_graphviz(decision_tree, out_file=None)\n",
        "graph = graphviz.Source(dot_data)\n",
        "graph.render('iris')\n",
        "\n",
        "dot_data = tree.export_graphviz(decision_tree, out_file=None,\n",
        "                                feature_names=iris_dataset.feature_names,\n",
        "                                class_names=iris_dataset.target_names,\n",
        "                                filled=True, rounded=True,\n",
        "                                special_characters=True)\n",
        "graph = graphviz.Source(dot_data)\n",
        "graph"
      ],
      "execution_count": null,
      "outputs": [
        {
          "output_type": "execute_result",
          "data": {
            "text/plain": [
              "<graphviz.files.Source at 0x7f3f368c8250>"
            ],
            "image/svg+xml": "<?xml version=\"1.0\" encoding=\"UTF-8\" standalone=\"no\"?>\n<!DOCTYPE svg PUBLIC \"-//W3C//DTD SVG 1.1//EN\"\n \"http://www.w3.org/Graphics/SVG/1.1/DTD/svg11.dtd\">\n<!-- Generated by graphviz version 2.40.1 (20161225.0304)\n -->\n<!-- Title: Tree Pages: 1 -->\n<svg width=\"541pt\" height=\"671pt\"\n viewBox=\"0.00 0.00 540.50 671.00\" xmlns=\"http://www.w3.org/2000/svg\" xmlns:xlink=\"http://www.w3.org/1999/xlink\">\n<g id=\"graph0\" class=\"graph\" transform=\"scale(1 1) rotate(0) translate(4 667)\">\n<title>Tree</title>\n<polygon fill=\"#ffffff\" stroke=\"transparent\" points=\"-4,4 -4,-667 536.5,-667 536.5,4 -4,4\"/>\n<!-- 0 -->\n<g id=\"node1\" class=\"node\">\n<title>0</title>\n<path fill=\"#fcfffd\" stroke=\"#000000\" d=\"M379,-663C379,-663 229,-663 229,-663 223,-663 217,-657 217,-651 217,-651 217,-592 217,-592 217,-586 223,-580 229,-580 229,-580 379,-580 379,-580 385,-580 391,-586 391,-592 391,-592 391,-651 391,-651 391,-657 385,-663 379,-663\"/>\n<text text-anchor=\"start\" x=\"225\" y=\"-647.8\" font-family=\"Helvetica,sans-Serif\" font-size=\"14.00\" fill=\"#000000\">petal width (cm) ≤ &#45;0.533</text>\n<text text-anchor=\"start\" x=\"266\" y=\"-632.8\" font-family=\"Helvetica,sans-Serif\" font-size=\"14.00\" fill=\"#000000\">gini = 0.666</text>\n<text text-anchor=\"start\" x=\"256\" y=\"-617.8\" font-family=\"Helvetica,sans-Serif\" font-size=\"14.00\" fill=\"#000000\">samples = 105</text>\n<text text-anchor=\"start\" x=\"242\" y=\"-602.8\" font-family=\"Helvetica,sans-Serif\" font-size=\"14.00\" fill=\"#000000\">value = [34, 36, 35]</text>\n<text text-anchor=\"start\" x=\"248\" y=\"-587.8\" font-family=\"Helvetica,sans-Serif\" font-size=\"14.00\" fill=\"#000000\">class = versicolor</text>\n</g>\n<!-- 1 -->\n<g id=\"node2\" class=\"node\">\n<title>1</title>\n<path fill=\"#e58139\" stroke=\"#000000\" d=\"M271.5,-536.5C271.5,-536.5 172.5,-536.5 172.5,-536.5 166.5,-536.5 160.5,-530.5 160.5,-524.5 160.5,-524.5 160.5,-480.5 160.5,-480.5 160.5,-474.5 166.5,-468.5 172.5,-468.5 172.5,-468.5 271.5,-468.5 271.5,-468.5 277.5,-468.5 283.5,-474.5 283.5,-480.5 283.5,-480.5 283.5,-524.5 283.5,-524.5 283.5,-530.5 277.5,-536.5 271.5,-536.5\"/>\n<text text-anchor=\"start\" x=\"192.5\" y=\"-521.3\" font-family=\"Helvetica,sans-Serif\" font-size=\"14.00\" fill=\"#000000\">gini = 0.0</text>\n<text text-anchor=\"start\" x=\"178\" y=\"-506.3\" font-family=\"Helvetica,sans-Serif\" font-size=\"14.00\" fill=\"#000000\">samples = 34</text>\n<text text-anchor=\"start\" x=\"168.5\" y=\"-491.3\" font-family=\"Helvetica,sans-Serif\" font-size=\"14.00\" fill=\"#000000\">value = [34, 0, 0]</text>\n<text text-anchor=\"start\" x=\"175\" y=\"-476.3\" font-family=\"Helvetica,sans-Serif\" font-size=\"14.00\" fill=\"#000000\">class = setosa</text>\n</g>\n<!-- 0&#45;&gt;1 -->\n<g id=\"edge1\" class=\"edge\">\n<title>0&#45;&gt;1</title>\n<path fill=\"none\" stroke=\"#000000\" d=\"M275.3204,-579.8796C267.5917,-568.6636 259.2191,-556.5131 251.4492,-545.2372\"/>\n<polygon fill=\"#000000\" stroke=\"#000000\" points=\"254.2018,-543.0634 245.6456,-536.8149 248.4377,-547.0353 254.2018,-543.0634\"/>\n<text text-anchor=\"middle\" x=\"241.1196\" y=\"-557.7018\" font-family=\"Helvetica,sans-Serif\" font-size=\"14.00\" fill=\"#000000\">True</text>\n</g>\n<!-- 2 -->\n<g id=\"node3\" class=\"node\">\n<title>2</title>\n<path fill=\"#fafefc\" stroke=\"#000000\" d=\"M460,-544C460,-544 314,-544 314,-544 308,-544 302,-538 302,-532 302,-532 302,-473 302,-473 302,-467 308,-461 314,-461 314,-461 460,-461 460,-461 466,-461 472,-467 472,-473 472,-473 472,-532 472,-532 472,-538 466,-544 460,-544\"/>\n<text text-anchor=\"start\" x=\"310\" y=\"-528.8\" font-family=\"Helvetica,sans-Serif\" font-size=\"14.00\" fill=\"#000000\">petal width (cm) ≤ 0.736</text>\n<text text-anchor=\"start\" x=\"357.5\" y=\"-513.8\" font-family=\"Helvetica,sans-Serif\" font-size=\"14.00\" fill=\"#000000\">gini = 0.5</text>\n<text text-anchor=\"start\" x=\"343\" y=\"-498.8\" font-family=\"Helvetica,sans-Serif\" font-size=\"14.00\" fill=\"#000000\">samples = 71</text>\n<text text-anchor=\"start\" x=\"329.5\" y=\"-483.8\" font-family=\"Helvetica,sans-Serif\" font-size=\"14.00\" fill=\"#000000\">value = [0, 36, 35]</text>\n<text text-anchor=\"start\" x=\"331\" y=\"-468.8\" font-family=\"Helvetica,sans-Serif\" font-size=\"14.00\" fill=\"#000000\">class = versicolor</text>\n</g>\n<!-- 0&#45;&gt;2 -->\n<g id=\"edge2\" class=\"edge\">\n<title>0&#45;&gt;2</title>\n<path fill=\"none\" stroke=\"#000000\" d=\"M333.0294,-579.8796C339.1855,-571.0534 345.7451,-561.6485 352.0936,-552.5466\"/>\n<polygon fill=\"#000000\" stroke=\"#000000\" points=\"354.9967,-554.5024 357.8467,-544.2981 349.2552,-550.4978 354.9967,-554.5024\"/>\n<text text-anchor=\"middle\" x=\"362.2331\" y=\"-565.2103\" font-family=\"Helvetica,sans-Serif\" font-size=\"14.00\" fill=\"#000000\">False</text>\n</g>\n<!-- 3 -->\n<g id=\"node4\" class=\"node\">\n<title>3</title>\n<path fill=\"#4fe88f\" stroke=\"#000000\" d=\"M379,-425C379,-425 227,-425 227,-425 221,-425 215,-419 215,-413 215,-413 215,-354 215,-354 215,-348 221,-342 227,-342 227,-342 379,-342 379,-342 385,-342 391,-348 391,-354 391,-354 391,-413 391,-413 391,-419 385,-425 379,-425\"/>\n<text text-anchor=\"start\" x=\"223\" y=\"-409.8\" font-family=\"Helvetica,sans-Serif\" font-size=\"14.00\" fill=\"#000000\">petal length (cm) ≤ 0.778</text>\n<text text-anchor=\"start\" x=\"269.5\" y=\"-394.8\" font-family=\"Helvetica,sans-Serif\" font-size=\"14.00\" fill=\"#000000\">gini = 0.18</text>\n<text text-anchor=\"start\" x=\"259\" y=\"-379.8\" font-family=\"Helvetica,sans-Serif\" font-size=\"14.00\" fill=\"#000000\">samples = 40</text>\n<text text-anchor=\"start\" x=\"249.5\" y=\"-364.8\" font-family=\"Helvetica,sans-Serif\" font-size=\"14.00\" fill=\"#000000\">value = [0, 36, 4]</text>\n<text text-anchor=\"start\" x=\"247\" y=\"-349.8\" font-family=\"Helvetica,sans-Serif\" font-size=\"14.00\" fill=\"#000000\">class = versicolor</text>\n</g>\n<!-- 2&#45;&gt;3 -->\n<g id=\"edge3\" class=\"edge\">\n<title>2&#45;&gt;3</title>\n<path fill=\"none\" stroke=\"#000000\" d=\"M357.6209,-460.8796C351.3906,-452.0534 344.7519,-442.6485 338.327,-433.5466\"/>\n<polygon fill=\"#000000\" stroke=\"#000000\" points=\"341.1308,-431.4494 332.5045,-425.2981 335.412,-435.4862 341.1308,-431.4494\"/>\n</g>\n<!-- 10 -->\n<g id=\"node11\" class=\"node\">\n<title>10</title>\n<path fill=\"#8139e5\" stroke=\"#000000\" d=\"M520.5,-417.5C520.5,-417.5 421.5,-417.5 421.5,-417.5 415.5,-417.5 409.5,-411.5 409.5,-405.5 409.5,-405.5 409.5,-361.5 409.5,-361.5 409.5,-355.5 415.5,-349.5 421.5,-349.5 421.5,-349.5 520.5,-349.5 520.5,-349.5 526.5,-349.5 532.5,-355.5 532.5,-361.5 532.5,-361.5 532.5,-405.5 532.5,-405.5 532.5,-411.5 526.5,-417.5 520.5,-417.5\"/>\n<text text-anchor=\"start\" x=\"441.5\" y=\"-402.3\" font-family=\"Helvetica,sans-Serif\" font-size=\"14.00\" fill=\"#000000\">gini = 0.0</text>\n<text text-anchor=\"start\" x=\"427\" y=\"-387.3\" font-family=\"Helvetica,sans-Serif\" font-size=\"14.00\" fill=\"#000000\">samples = 31</text>\n<text text-anchor=\"start\" x=\"417.5\" y=\"-372.3\" font-family=\"Helvetica,sans-Serif\" font-size=\"14.00\" fill=\"#000000\">value = [0, 0, 31]</text>\n<text text-anchor=\"start\" x=\"419.5\" y=\"-357.3\" font-family=\"Helvetica,sans-Serif\" font-size=\"14.00\" fill=\"#000000\">class = virginica</text>\n</g>\n<!-- 2&#45;&gt;10 -->\n<g id=\"edge10\" class=\"edge\">\n<title>2&#45;&gt;10</title>\n<path fill=\"none\" stroke=\"#000000\" d=\"M416.3791,-460.8796C424.2963,-449.6636 432.8731,-437.5131 440.8325,-426.2372\"/>\n<polygon fill=\"#000000\" stroke=\"#000000\" points=\"443.8702,-428.003 446.7777,-417.8149 438.1514,-423.9662 443.8702,-428.003\"/>\n</g>\n<!-- 4 -->\n<g id=\"node5\" class=\"node\">\n<title>4</title>\n<path fill=\"#3ee684\" stroke=\"#000000\" d=\"M298,-306C298,-306 138,-306 138,-306 132,-306 126,-300 126,-294 126,-294 126,-235 126,-235 126,-229 132,-223 138,-223 138,-223 298,-223 298,-223 304,-223 310,-229 310,-235 310,-235 310,-294 310,-294 310,-300 304,-306 298,-306\"/>\n<text text-anchor=\"start\" x=\"134\" y=\"-290.8\" font-family=\"Helvetica,sans-Serif\" font-size=\"14.00\" fill=\"#000000\">sepal length (cm) ≤ &#45;1.113</text>\n<text text-anchor=\"start\" x=\"180\" y=\"-275.8\" font-family=\"Helvetica,sans-Serif\" font-size=\"14.00\" fill=\"#000000\">gini = 0.053</text>\n<text text-anchor=\"start\" x=\"174\" y=\"-260.8\" font-family=\"Helvetica,sans-Serif\" font-size=\"14.00\" fill=\"#000000\">samples = 37</text>\n<text text-anchor=\"start\" x=\"164.5\" y=\"-245.8\" font-family=\"Helvetica,sans-Serif\" font-size=\"14.00\" fill=\"#000000\">value = [0, 36, 1]</text>\n<text text-anchor=\"start\" x=\"162\" y=\"-230.8\" font-family=\"Helvetica,sans-Serif\" font-size=\"14.00\" fill=\"#000000\">class = versicolor</text>\n</g>\n<!-- 3&#45;&gt;4 -->\n<g id=\"edge4\" class=\"edge\">\n<title>3&#45;&gt;4</title>\n<path fill=\"none\" stroke=\"#000000\" d=\"M273.2711,-341.8796C266.9667,-333.0534 260.249,-323.6485 253.7476,-314.5466\"/>\n<polygon fill=\"#000000\" stroke=\"#000000\" points=\"256.5163,-312.4011 247.8558,-306.2981 250.8201,-316.4698 256.5163,-312.4011\"/>\n</g>\n<!-- 9 -->\n<g id=\"node10\" class=\"node\">\n<title>9</title>\n<path fill=\"#8139e5\" stroke=\"#000000\" d=\"M435.5,-298.5C435.5,-298.5 340.5,-298.5 340.5,-298.5 334.5,-298.5 328.5,-292.5 328.5,-286.5 328.5,-286.5 328.5,-242.5 328.5,-242.5 328.5,-236.5 334.5,-230.5 340.5,-230.5 340.5,-230.5 435.5,-230.5 435.5,-230.5 441.5,-230.5 447.5,-236.5 447.5,-242.5 447.5,-242.5 447.5,-286.5 447.5,-286.5 447.5,-292.5 441.5,-298.5 435.5,-298.5\"/>\n<text text-anchor=\"start\" x=\"358.5\" y=\"-283.3\" font-family=\"Helvetica,sans-Serif\" font-size=\"14.00\" fill=\"#000000\">gini = 0.0</text>\n<text text-anchor=\"start\" x=\"348.5\" y=\"-268.3\" font-family=\"Helvetica,sans-Serif\" font-size=\"14.00\" fill=\"#000000\">samples = 3</text>\n<text text-anchor=\"start\" x=\"338.5\" y=\"-253.3\" font-family=\"Helvetica,sans-Serif\" font-size=\"14.00\" fill=\"#000000\">value = [0, 0, 3]</text>\n<text text-anchor=\"start\" x=\"336.5\" y=\"-238.3\" font-family=\"Helvetica,sans-Serif\" font-size=\"14.00\" fill=\"#000000\">class = virginica</text>\n</g>\n<!-- 3&#45;&gt;9 -->\n<g id=\"edge9\" class=\"edge\">\n<title>3&#45;&gt;9</title>\n<path fill=\"none\" stroke=\"#000000\" d=\"M332.7289,-341.8796C340.7403,-330.6636 349.4192,-318.5131 357.4734,-307.2372\"/>\n<polygon fill=\"#000000\" stroke=\"#000000\" points=\"360.525,-308.9866 363.4893,-298.8149 354.8288,-304.9179 360.525,-308.9866\"/>\n</g>\n<!-- 5 -->\n<g id=\"node6\" class=\"node\">\n<title>5</title>\n<path fill=\"#ffffff\" stroke=\"#000000\" d=\"M208,-187C208,-187 62,-187 62,-187 56,-187 50,-181 50,-175 50,-175 50,-116 50,-116 50,-110 56,-104 62,-104 62,-104 208,-104 208,-104 214,-104 220,-110 220,-116 220,-116 220,-175 220,-175 220,-181 214,-187 208,-187\"/>\n<text text-anchor=\"start\" x=\"58\" y=\"-171.8\" font-family=\"Helvetica,sans-Serif\" font-size=\"14.00\" fill=\"#000000\">petal width (cm) ≤ 0.202</text>\n<text text-anchor=\"start\" x=\"105.5\" y=\"-156.8\" font-family=\"Helvetica,sans-Serif\" font-size=\"14.00\" fill=\"#000000\">gini = 0.5</text>\n<text text-anchor=\"start\" x=\"95.5\" y=\"-141.8\" font-family=\"Helvetica,sans-Serif\" font-size=\"14.00\" fill=\"#000000\">samples = 2</text>\n<text text-anchor=\"start\" x=\"85.5\" y=\"-126.8\" font-family=\"Helvetica,sans-Serif\" font-size=\"14.00\" fill=\"#000000\">value = [0, 1, 1]</text>\n<text text-anchor=\"start\" x=\"79\" y=\"-111.8\" font-family=\"Helvetica,sans-Serif\" font-size=\"14.00\" fill=\"#000000\">class = versicolor</text>\n</g>\n<!-- 4&#45;&gt;5 -->\n<g id=\"edge5\" class=\"edge\">\n<title>4&#45;&gt;5</title>\n<path fill=\"none\" stroke=\"#000000\" d=\"M188.9706,-222.8796C182.8145,-214.0534 176.2549,-204.6485 169.9064,-195.5466\"/>\n<polygon fill=\"#000000\" stroke=\"#000000\" points=\"172.7448,-193.4978 164.1533,-187.2981 167.0033,-197.5024 172.7448,-193.4978\"/>\n</g>\n<!-- 8 -->\n<g id=\"node9\" class=\"node\">\n<title>8</title>\n<path fill=\"#39e581\" stroke=\"#000000\" d=\"M354,-179.5C354,-179.5 250,-179.5 250,-179.5 244,-179.5 238,-173.5 238,-167.5 238,-167.5 238,-123.5 238,-123.5 238,-117.5 244,-111.5 250,-111.5 250,-111.5 354,-111.5 354,-111.5 360,-111.5 366,-117.5 366,-123.5 366,-123.5 366,-167.5 366,-167.5 366,-173.5 360,-179.5 354,-179.5\"/>\n<text text-anchor=\"start\" x=\"272.5\" y=\"-164.3\" font-family=\"Helvetica,sans-Serif\" font-size=\"14.00\" fill=\"#000000\">gini = 0.0</text>\n<text text-anchor=\"start\" x=\"258\" y=\"-149.3\" font-family=\"Helvetica,sans-Serif\" font-size=\"14.00\" fill=\"#000000\">samples = 35</text>\n<text text-anchor=\"start\" x=\"248.5\" y=\"-134.3\" font-family=\"Helvetica,sans-Serif\" font-size=\"14.00\" fill=\"#000000\">value = [0, 35, 0]</text>\n<text text-anchor=\"start\" x=\"246\" y=\"-119.3\" font-family=\"Helvetica,sans-Serif\" font-size=\"14.00\" fill=\"#000000\">class = versicolor</text>\n</g>\n<!-- 4&#45;&gt;8 -->\n<g id=\"edge8\" class=\"edge\">\n<title>4&#45;&gt;8</title>\n<path fill=\"none\" stroke=\"#000000\" d=\"M247.3791,-222.8796C255.2963,-211.6636 263.8731,-199.5131 271.8325,-188.2372\"/>\n<polygon fill=\"#000000\" stroke=\"#000000\" points=\"274.8702,-190.003 277.7777,-179.8149 269.1514,-185.9662 274.8702,-190.003\"/>\n</g>\n<!-- 6 -->\n<g id=\"node7\" class=\"node\">\n<title>6</title>\n<path fill=\"#39e581\" stroke=\"#000000\" d=\"M116,-68C116,-68 12,-68 12,-68 6,-68 0,-62 0,-56 0,-56 0,-12 0,-12 0,-6 6,0 12,0 12,0 116,0 116,0 122,0 128,-6 128,-12 128,-12 128,-56 128,-56 128,-62 122,-68 116,-68\"/>\n<text text-anchor=\"start\" x=\"34.5\" y=\"-52.8\" font-family=\"Helvetica,sans-Serif\" font-size=\"14.00\" fill=\"#000000\">gini = 0.0</text>\n<text text-anchor=\"start\" x=\"24.5\" y=\"-37.8\" font-family=\"Helvetica,sans-Serif\" font-size=\"14.00\" fill=\"#000000\">samples = 1</text>\n<text text-anchor=\"start\" x=\"14.5\" y=\"-22.8\" font-family=\"Helvetica,sans-Serif\" font-size=\"14.00\" fill=\"#000000\">value = [0, 1, 0]</text>\n<text text-anchor=\"start\" x=\"8\" y=\"-7.8\" font-family=\"Helvetica,sans-Serif\" font-size=\"14.00\" fill=\"#000000\">class = versicolor</text>\n</g>\n<!-- 5&#45;&gt;6 -->\n<g id=\"edge6\" class=\"edge\">\n<title>5&#45;&gt;6</title>\n<path fill=\"none\" stroke=\"#000000\" d=\"M108.5622,-103.9815C102.944,-95.1585 97.0012,-85.8258 91.3497,-76.9506\"/>\n<polygon fill=\"#000000\" stroke=\"#000000\" points=\"94.1416,-74.8188 85.8181,-68.2637 88.2371,-78.5787 94.1416,-74.8188\"/>\n</g>\n<!-- 7 -->\n<g id=\"node8\" class=\"node\">\n<title>7</title>\n<path fill=\"#8139e5\" stroke=\"#000000\" d=\"M253.5,-68C253.5,-68 158.5,-68 158.5,-68 152.5,-68 146.5,-62 146.5,-56 146.5,-56 146.5,-12 146.5,-12 146.5,-6 152.5,0 158.5,0 158.5,0 253.5,0 253.5,0 259.5,0 265.5,-6 265.5,-12 265.5,-12 265.5,-56 265.5,-56 265.5,-62 259.5,-68 253.5,-68\"/>\n<text text-anchor=\"start\" x=\"176.5\" y=\"-52.8\" font-family=\"Helvetica,sans-Serif\" font-size=\"14.00\" fill=\"#000000\">gini = 0.0</text>\n<text text-anchor=\"start\" x=\"166.5\" y=\"-37.8\" font-family=\"Helvetica,sans-Serif\" font-size=\"14.00\" fill=\"#000000\">samples = 1</text>\n<text text-anchor=\"start\" x=\"156.5\" y=\"-22.8\" font-family=\"Helvetica,sans-Serif\" font-size=\"14.00\" fill=\"#000000\">value = [0, 0, 1]</text>\n<text text-anchor=\"start\" x=\"154.5\" y=\"-7.8\" font-family=\"Helvetica,sans-Serif\" font-size=\"14.00\" fill=\"#000000\">class = virginica</text>\n</g>\n<!-- 5&#45;&gt;7 -->\n<g id=\"edge7\" class=\"edge\">\n<title>5&#45;&gt;7</title>\n<path fill=\"none\" stroke=\"#000000\" d=\"M161.4378,-103.9815C167.056,-95.1585 172.9988,-85.8258 178.6503,-76.9506\"/>\n<polygon fill=\"#000000\" stroke=\"#000000\" points=\"181.7629,-78.5787 184.1819,-68.2637 175.8584,-74.8188 181.7629,-78.5787\"/>\n</g>\n</g>\n</svg>\n"
          },
          "metadata": {},
          "execution_count": 78
        }
      ]
    }
  ]
}